{
 "cells": [
  {
   "cell_type": "code",
   "execution_count": 19,
   "metadata": {},
   "outputs": [
    {
     "name": "stdout",
     "output_type": "stream",
     "text": [
      "Election Results\n",
      "-------------------------\n",
      "Total Votes: 3521001\n",
      "-------------------------\n",
      "Khan: 63.0% (2218231)\n",
      "Correy: 20.0% (704200)\n",
      "Li: 14.0% (492940)\n",
      "O'Tooley: 0.0% (0)\n",
      "-------------------------\n",
      "Winner: Khan\n",
      "-------------------------\n"
     ]
    }
   ],
   "source": [
    "import csv\n",
    "import os\n",
    "\n",
    "#print(\"duh!\")\n",
    "\n",
    "pollcsv = os.path.join(\"..\", \"election_data.csv\" )\n",
    "\n",
    "\n",
    "# Read in the CSV file\n",
    "with open(pollcsv, 'r') as csvfile:\n",
    "\n",
    "    # Split the data on commas\n",
    "    csvreader = csv.reader(csvfile, delimiter=',')\n",
    "\n",
    "    header = next(csvreader)\n",
    "    \n",
    "    votes = 0\n",
    "    kVotes = 0\n",
    "    cVotes = 0\n",
    "    lVotes = 0\n",
    "    oVotes = 0\n",
    "    others = 0\n",
    "    \n",
    "    for row in csvreader:\n",
    "        votes = votes + 1\n",
    "        if row[2] == \"Khan\":\n",
    "            kVotes = kVotes + 1\n",
    "        else:\n",
    "            if row[2] == \"Correy\":\n",
    "                cVotes = cVotes +1\n",
    "            else:\n",
    "                if row[2] == \"Li\":\n",
    "                    lVotes = lVotes +1\n",
    "                else:\n",
    "                    if row[2] == \"O'Tooley\":\n",
    "                        oVotes == oVotes + 1\n",
    "                    else:\n",
    "                        others == others +1\n",
    "    \n",
    "    kPerc = round((kVotes/votes)*100,3)\n",
    "    cPerc = round((cVotes/votes)*100,3)\n",
    "    lPerc = round((lVotes/votes)*100,3)\n",
    "    oPerc = round((oVotes/votes)*100,3)\n",
    "    \n",
    "    canDict = {\"Khan\": kVotes, \"Correy\":cVotes, \"Li\":lVotes, \"O'Tooley\":oVotes}\n",
    "    winner = max(zip(canDict.values(), canDict.keys()))[1]\n",
    "    \n",
    "    \n",
    "    print(\"Election Results\") \n",
    "    print(\"-------------------------\")\n",
    "    print(f'Total Votes: {votes}')\n",
    "    print(\"-------------------------\")\n",
    "    print(f'Khan: {kPerc}% ({kVotes})')\n",
    "    print(f'Correy: {cPerc}% ({cVotes})')\n",
    "    print(f'Li: {lPerc}% ({lVotes})')\n",
    "    print(f\"O'Tooley: {oPerc}% ({oVotes})\")\n",
    "    print(\"-------------------------\")\n",
    "    print(f\"Winner: {winner}\")\n",
    "    print(\"-------------------------\")\n",
    "    \n",
    "        "
   ]
  },
  {
   "cell_type": "code",
   "execution_count": 18,
   "metadata": {},
   "outputs": [
    {
     "data": {
      "text/plain": [
       "'Khan'"
      ]
     },
     "execution_count": 18,
     "metadata": {},
     "output_type": "execute_result"
    }
   ],
   "source": [
    "canDict = {\"Khan\": kVotes, \"Correy\":cVotes, \"Li\":lVotes, \"O'Tooley\":oVotes}\n",
    "winner = max(zip(canDict.values(), canDict.keys()))[1]\n",
    "#winner = winnerT[1]\n",
    "winner"
   ]
  },
  {
   "cell_type": "code",
   "execution_count": null,
   "metadata": {},
   "outputs": [],
   "source": []
  }
 ],
 "metadata": {
  "kernelspec": {
   "display_name": "Python 3",
   "language": "python",
   "name": "python3"
  },
  "language_info": {
   "codemirror_mode": {
    "name": "ipython",
    "version": 3
   },
   "file_extension": ".py",
   "mimetype": "text/x-python",
   "name": "python",
   "nbconvert_exporter": "python",
   "pygments_lexer": "ipython3",
   "version": "3.7.0"
  }
 },
 "nbformat": 4,
 "nbformat_minor": 2
}
