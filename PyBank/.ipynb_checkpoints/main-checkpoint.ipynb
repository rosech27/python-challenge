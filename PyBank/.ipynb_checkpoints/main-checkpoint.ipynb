{
 "cells": [
  {
   "cell_type": "code",
   "execution_count": 23,
   "metadata": {},
   "outputs": [
    {
     "name": "stdout",
     "output_type": "stream",
     "text": [
      "Financial Analysis\n",
      "----------------------------\n",
      "Number of months is 86\n",
      "Total revenue is 38382578\n",
      "Average  Change: $-2315.12\n",
      "Greatest Increase in Profits : Feb-2012 $1926159.0\n",
      "Greatest Decrease in Profits : Sep-2013 $-2196167.0\n"
     ]
    }
   ],
   "source": [
    "import pandas as pd\n",
    "import os\n",
    "\n",
    "#reading csv and assigning to a dataframe\n",
    "bankcsv = os.path.join(\"..\", \"budget_data.csv\" )\n",
    "bankData_df = pd.read_csv(bankcsv)\n",
    "\n",
    "#finding total months and revenue\n",
    "months = len(bankData_df[\"Date\"])\n",
    "totRevenue = sum(bankData_df[\"Profit/Losses\"])\n",
    "\n",
    "#finding the difference between profit/loss values\n",
    "bankData_df[\"Diff Revenue\"] = bankData_df[\"Profit/Losses\"].diff()\n",
    "\n",
    "#finding the record with the maximum increase and minimum increase\n",
    "maxRecord = bankData_df.loc[bankData_df[\"Diff Revenue\"] == bankData_df[\"Diff Revenue\"].max()]\n",
    "minRecord = bankData_df.loc[bankData_df[\"Diff Revenue\"] == bankData_df[\"Diff Revenue\"].min()]\n",
    "\n",
    "print(\"Financial Analysis\")\n",
    "print(\"----------------------------\")\n",
    "print(f'Number of months is {months}')\n",
    "print(f'Total revenue is {totRevenue}')\n",
    "print(f'Average  Change: ${round(bankData_df.loc[:,\"Diff Revenue\"].mean(),2)}')\n",
    "print(f'Greatest Increase in Profits : {maxRecord.iloc[0,0]} ${bankData_df[\"Diff Revenue\"].max()}')\n",
    "print(f'Greatest Decrease in Profits : {minRecord.iloc[0,0]} ${bankData_df[\"Diff Revenue\"].min()}')\n",
    "\n",
    "f = open('Revenue_Analysis.txt','w')\n",
    "f.write(f'Number of months is {months} \\n')\n",
    "f.write(f'Total revenue is {totRevenue} \\n')\n",
    "f.write(f'Average  Change: ${round(bankData_df.loc[:,\"Diff Revenue\"].mean(),2)} \\n')\n",
    "f.write(f'Greatest Increase in Profits : {maxMonth} ${maxVal} \\n')\n",
    "f.write(f'Greatest Decrease in Profits : {minMonth} ${minVal} \\n')\n",
    "f.close()\n"
   ]
  },
  {
   "cell_type": "code",
   "execution_count": 16,
   "metadata": {},
   "outputs": [
    {
     "name": "stdout",
     "output_type": "stream",
     "text": [
      "Average  Change: $-2315.12\n"
     ]
    }
   ],
   "source": [
    "#maxVal = bankData_df[\"Diff Revenue\"].max()\n",
    "print(f'Average  Change: ${round(bankData_df.loc[:,\"Diff Revenue\"].mean(),2)}')"
   ]
  },
  {
   "cell_type": "code",
   "execution_count": 11,
   "metadata": {},
   "outputs": [],
   "source": [
    "f = open('helloworld.txt','w')\n",
    "f.write(f'Total revenue is {totRevenue} \\n')\n",
    "f.write(f'Average  Change: ${avgVal}')\n",
    "f.close()"
   ]
  },
  {
   "cell_type": "code",
   "execution_count": 126,
   "metadata": {},
   "outputs": [
    {
     "data": {
      "text/plain": [
       "'Feb-2012'"
      ]
     },
     "execution_count": 126,
     "metadata": {},
     "output_type": "execute_result"
    }
   ],
   "source": [
    "maxMonth = bankData_df.loc[bankData_df[\"Diff Revenue\"] == maxVal]\n",
    "#maxMonth = maxMonth[\"Date\"]\n",
    "maxMonthName = maxMonth.iloc[0,0]\n",
    "maxMonthName\n",
    "#only_billys = df.loc[df[\"first_name\"] == \"Billy\", :]"
   ]
  },
  {
   "cell_type": "code",
   "execution_count": null,
   "metadata": {},
   "outputs": [],
   "source": [
    "import pandas as pd\n",
    "import os\n",
    "\n",
    "#path to file\n",
    "bankcsv = os.path.join(\"..\", \"budget_data.csv\" )\n",
    "\n",
    "bankData_df = pd.read_csv(bankcsv)\n",
    "\n",
    "months = len(bankData_df[\"Date\"])\n",
    "\n",
    "totRevenue = sum(bankData_df[\"Profit/Losses\"])\n",
    "\n",
    "#finding the difference between profit/loss values\n",
    "bankData_df[\"Diff Revenue\"] = bankData_df[\"Profit/Losses\"].diff()\n",
    "\n",
    "#finding the record with the maximum increase and minimum increase\n",
    "maxRecord = bankData_df.loc[bankData_df[\"Diff Revenue\"] == bankData_df[\"Diff Revenue\"].max()]\n",
    "#maxMonth = maxRecord.iloc[0,0]\n",
    "\n",
    "#minVal = bankData_df[\"Diff Revenue\"].min()\n",
    "minRecord = bankData_df.loc[bankData_df[\"Diff Revenue\"] == bankData_df[\"Diff Revenue\"].min()]\n",
    "minMonth = minRecord.iloc[0,0]\n",
    "\n",
    "#avgVal =  round(bankData_df.loc[:,\"Diff Revenue\"].mean(),2)\n",
    "\n",
    "print(f'Number of months is {months}')\n",
    "print(f'Total revenue is {totRevenue}')\n",
    "print(f'Average  Change: ${round(bankData_df.loc[:,\"Diff Revenue\"].mean(),2)}')\n",
    "print(f'Greatest Increase in Profits : {maxRecord.iloc[0,0]} ${bankData_df[\"Diff Revenue\"].max()}')\n",
    "print(f'Greatest Decrease in Profits : {minRecord.iloc[0,0]} ${bankData_df[\"Diff Revenue\"].min()}')\n",
    "\n",
    "f = open('Revenue_Analysis.txt','w')\n",
    "f.write(f'Number of months is {months} \\n')\n",
    "f.write(f'Total revenue is {totRevenue} \\n')\n",
    "f.write(f'Average  Change: ${round(bankData_df.loc[:,\"Diff Revenue\"].mean(),2)} \\n')\n",
    "f.write(f'Greatest Increase in Profits : {maxMonth} ${maxVal} \\n')\n",
    "f.write(f'Greatest Decrease in Profits : {minMonth} ${minVal} \\n')\n",
    "f.close()"
   ]
  },
  {
   "cell_type": "code",
   "execution_count": null,
   "metadata": {},
   "outputs": [],
   "source": []
  },
  {
   "cell_type": "code",
   "execution_count": null,
   "metadata": {},
   "outputs": [],
   "source": [
    "#diffRevenue = diffRevenue.rename(columns={\"Profit/Losses\": \"Diff Revenue\"})\n",
    "result = pd.concat([bankData_df, diffRevenue], axis=1)\n",
    "result.head()"
   ]
  }
 ],
 "metadata": {
  "kernelspec": {
   "display_name": "Python 3",
   "language": "python",
   "name": "python3"
  },
  "language_info": {
   "codemirror_mode": {
    "name": "ipython",
    "version": 3
   },
   "file_extension": ".py",
   "mimetype": "text/x-python",
   "name": "python",
   "nbconvert_exporter": "python",
   "pygments_lexer": "ipython3",
   "version": "3.7.0"
  }
 },
 "nbformat": 4,
 "nbformat_minor": 2
}
