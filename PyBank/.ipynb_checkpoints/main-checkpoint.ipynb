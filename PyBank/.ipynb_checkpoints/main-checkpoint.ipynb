{
 "cells": [
  {
   "cell_type": "code",
   "execution_count": 132,
   "metadata": {},
   "outputs": [
    {
     "name": "stdout",
     "output_type": "stream",
     "text": [
      "Number of months is 86\n",
      "Total revenue is 38382578\n",
      "Average  Change: $-2315.1176470588234\n",
      "Greatest Increase in Profits : Feb-2012 $1926159.0\n",
      "Greatest Decrease in Profits : Sep-2013 $-2196167.0\n"
     ]
    }
   ],
   "source": [
    "import pandas as pd\n",
    "import os\n",
    "\n",
    "#path to file\n",
    "bankcsv = os.path.join(\"..\", \"budget_data.csv\" )\n",
    "\n",
    "bankData_df = pd.read_csv(bankcsv)\n",
    "\n",
    "months = len(bankData_df[\"Date\"])\n",
    "print(f'Number of months is {months}')\n",
    "\n",
    "totRevenue = sum(bankData_df[\"Profit/Losses\"])\n",
    "print(f'Total revenue is {totRevenue}')\n",
    "\n",
    "bankData_df[\"Diff Revenue\"] = bankData_df[\"Profit/Losses\"].diff()\n",
    "\n",
    "\n",
    "\n",
    "maxVal = bankData_df[\"Diff Revenue\"].max()\n",
    "maxRecord = bankData_df.loc[bankData_df[\"Diff Revenue\"] == maxVal]\n",
    "maxMonth = maxRecord.iloc[0,0]\n",
    "\n",
    "minVal = bankData_df[\"Diff Revenue\"].min()\n",
    "minRecord = bankData_df.loc[bankData_df[\"Diff Revenue\"] == minVal]\n",
    "minMonth = minRecord.iloc[0,0]\n",
    "\n",
    "avgVal =  bankData_df.loc[:,\"Diff Revenue\"].mean()\n",
    "\n",
    "print(f'Average  Change: ${avgVal}')\n",
    "print(f'Greatest Increase in Profits : {maxMonth} ${maxVal}')\n",
    "print(f'Greatest Decrease in Profits : {minMonth} ${minVal}')\n",
    "\n"
   ]
  },
  {
   "cell_type": "code",
   "execution_count": 107,
   "metadata": {},
   "outputs": [
    {
     "data": {
      "text/html": [
       "<div>\n",
       "<style scoped>\n",
       "    .dataframe tbody tr th:only-of-type {\n",
       "        vertical-align: middle;\n",
       "    }\n",
       "\n",
       "    .dataframe tbody tr th {\n",
       "        vertical-align: top;\n",
       "    }\n",
       "\n",
       "    .dataframe thead th {\n",
       "        text-align: right;\n",
       "    }\n",
       "</style>\n",
       "<table border=\"1\" class=\"dataframe\">\n",
       "  <thead>\n",
       "    <tr style=\"text-align: right;\">\n",
       "      <th></th>\n",
       "      <th>Date</th>\n",
       "      <th>Profit/Losses</th>\n",
       "      <th>Diff Revenue</th>\n",
       "    </tr>\n",
       "  </thead>\n",
       "  <tbody>\n",
       "    <tr>\n",
       "      <th>0</th>\n",
       "      <td>Jan-2010</td>\n",
       "      <td>867884</td>\n",
       "      <td>NaN</td>\n",
       "    </tr>\n",
       "    <tr>\n",
       "      <th>1</th>\n",
       "      <td>Feb-2010</td>\n",
       "      <td>984655</td>\n",
       "      <td>116771.0</td>\n",
       "    </tr>\n",
       "    <tr>\n",
       "      <th>2</th>\n",
       "      <td>Mar-2010</td>\n",
       "      <td>322013</td>\n",
       "      <td>-662642.0</td>\n",
       "    </tr>\n",
       "    <tr>\n",
       "      <th>3</th>\n",
       "      <td>Apr-2010</td>\n",
       "      <td>-69417</td>\n",
       "      <td>-391430.0</td>\n",
       "    </tr>\n",
       "    <tr>\n",
       "      <th>4</th>\n",
       "      <td>May-2010</td>\n",
       "      <td>310503</td>\n",
       "      <td>379920.0</td>\n",
       "    </tr>\n",
       "  </tbody>\n",
       "</table>\n",
       "</div>"
      ],
      "text/plain": [
       "       Date  Profit/Losses  Diff Revenue\n",
       "0  Jan-2010         867884           NaN\n",
       "1  Feb-2010         984655      116771.0\n",
       "2  Mar-2010         322013     -662642.0\n",
       "3  Apr-2010         -69417     -391430.0\n",
       "4  May-2010         310503      379920.0"
      ]
     },
     "execution_count": 107,
     "metadata": {},
     "output_type": "execute_result"
    }
   ],
   "source": [
    "bankData_df.head()"
   ]
  },
  {
   "cell_type": "code",
   "execution_count": 113,
   "metadata": {},
   "outputs": [
    {
     "data": {
      "text/plain": [
       "1926159.0"
      ]
     },
     "execution_count": 113,
     "metadata": {},
     "output_type": "execute_result"
    }
   ],
   "source": [
    "maxVal = bankData_df[\"Diff Revenue\"].max()\n",
    "maxVal"
   ]
  },
  {
   "cell_type": "code",
   "execution_count": 126,
   "metadata": {},
   "outputs": [
    {
     "data": {
      "text/plain": [
       "'Feb-2012'"
      ]
     },
     "execution_count": 126,
     "metadata": {},
     "output_type": "execute_result"
    }
   ],
   "source": [
    "maxMonth = bankData_df.loc[bankData_df[\"Diff Revenue\"] == maxVal]\n",
    "#maxMonth = maxMonth[\"Date\"]\n",
    "maxMonthName = maxMonth.iloc[0,0]\n",
    "maxMonthName\n",
    "#only_billys = df.loc[df[\"first_name\"] == \"Billy\", :]"
   ]
  },
  {
   "cell_type": "code",
   "execution_count": null,
   "metadata": {},
   "outputs": [],
   "source": []
  },
  {
   "cell_type": "code",
   "execution_count": null,
   "metadata": {},
   "outputs": [],
   "source": []
  },
  {
   "cell_type": "code",
   "execution_count": null,
   "metadata": {},
   "outputs": [],
   "source": [
    "#diffRevenue = diffRevenue.rename(columns={\"Profit/Losses\": \"Diff Revenue\"})\n",
    "result = pd.concat([bankData_df, diffRevenue], axis=1)\n",
    "result.head()"
   ]
  }
 ],
 "metadata": {
  "kernelspec": {
   "display_name": "Python 3",
   "language": "python",
   "name": "python3"
  },
  "language_info": {
   "codemirror_mode": {
    "name": "ipython",
    "version": 3
   },
   "file_extension": ".py",
   "mimetype": "text/x-python",
   "name": "python",
   "nbconvert_exporter": "python",
   "pygments_lexer": "ipython3",
   "version": "3.7.0"
  }
 },
 "nbformat": 4,
 "nbformat_minor": 2
}
