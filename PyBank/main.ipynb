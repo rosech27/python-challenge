{
 "cells": [
  {
   "cell_type": "code",
   "execution_count": 8,
   "metadata": {},
   "outputs": [],
   "source": [
    "import pandas as pd\n",
    "import os\n",
    "\n",
    "#path to file\n",
    "bankcsv = os.path.join(\"..\", \"budget_data.csv\" )\n",
    "\n",
    "bankData_df = pd.read_csv(bankcsv)\n",
    "\n",
    "months = len(bankData_df[\"Date\"])\n",
    "print(f'Number of months is {months}', file=open(\"output.txt\", \"a\"))\n",
    "\n",
    "totRevenue = sum(bankData_df[\"Profit/Losses\"])\n",
    "print(f'Total revenue is {totRevenue}', file=open(\"output.txt\", \"a\"))\n",
    "\n",
    "bankData_df[\"Diff Revenue\"] = bankData_df[\"Profit/Losses\"].diff()\n",
    "\n",
    "\n",
    "\n",
    "maxVal = bankData_df[\"Diff Revenue\"].max()\n",
    "maxRecord = bankData_df.loc[bankData_df[\"Diff Revenue\"] == maxVal]\n",
    "maxMonth = maxRecord.iloc[0,0]\n",
    "\n",
    "minVal = bankData_df[\"Diff Revenue\"].min()\n",
    "minRecord = bankData_df.loc[bankData_df[\"Diff Revenue\"] == minVal]\n",
    "minMonth = minRecord.iloc[0,0]\n",
    "\n",
    "avgVal =  round(bankData_df.loc[:,\"Diff Revenue\"].mean(),2)\n",
    "\n",
    "print(f'Average  Change: ${avgVal}', file=open(\"output.txt\", \"a\"))\n",
    "print(f'Greatest Increase in Profits : {maxMonth} ${maxVal}', file=open(\"output.txt\", \"a\"))\n",
    "print(f'Greatest Decrease in Profits : {minMonth} ${minVal}', file=open(\"output.txt\", \"a\"))\n",
    "\n"
   ]
  },
  {
   "cell_type": "code",
   "execution_count": 7,
   "metadata": {},
   "outputs": [],
   "source": [
    "#print(\"Hello stackoverflow!\", file=open(\"output.txt\", \"a\"))\n",
    "print(f'Average  Change: ${avgVal}', file=open(\"output.txt\", \"a\"))"
   ]
  },
  {
   "cell_type": "code",
   "execution_count": 113,
   "metadata": {},
   "outputs": [
    {
     "data": {
      "text/plain": [
       "1926159.0"
      ]
     },
     "execution_count": 113,
     "metadata": {},
     "output_type": "execute_result"
    }
   ],
   "source": [
    "maxVal = bankData_df[\"Diff Revenue\"].max()\n",
    "maxVal"
   ]
  },
  {
   "cell_type": "code",
   "execution_count": 126,
   "metadata": {},
   "outputs": [
    {
     "data": {
      "text/plain": [
       "'Feb-2012'"
      ]
     },
     "execution_count": 126,
     "metadata": {},
     "output_type": "execute_result"
    }
   ],
   "source": [
    "maxMonth = bankData_df.loc[bankData_df[\"Diff Revenue\"] == maxVal]\n",
    "#maxMonth = maxMonth[\"Date\"]\n",
    "maxMonthName = maxMonth.iloc[0,0]\n",
    "maxMonthName\n",
    "#only_billys = df.loc[df[\"first_name\"] == \"Billy\", :]"
   ]
  },
  {
   "cell_type": "code",
   "execution_count": null,
   "metadata": {},
   "outputs": [],
   "source": []
  },
  {
   "cell_type": "code",
   "execution_count": null,
   "metadata": {},
   "outputs": [],
   "source": []
  },
  {
   "cell_type": "code",
   "execution_count": null,
   "metadata": {},
   "outputs": [],
   "source": [
    "#diffRevenue = diffRevenue.rename(columns={\"Profit/Losses\": \"Diff Revenue\"})\n",
    "result = pd.concat([bankData_df, diffRevenue], axis=1)\n",
    "result.head()"
   ]
  }
 ],
 "metadata": {
  "kernelspec": {
   "display_name": "Python 3",
   "language": "python",
   "name": "python3"
  },
  "language_info": {
   "codemirror_mode": {
    "name": "ipython",
    "version": 3
   },
   "file_extension": ".py",
   "mimetype": "text/x-python",
   "name": "python",
   "nbconvert_exporter": "python",
   "pygments_lexer": "ipython3",
   "version": "3.7.0"
  }
 },
 "nbformat": 4,
 "nbformat_minor": 2
}
